{
 "cells": [
  {
   "attachments": {},
   "cell_type": "markdown",
   "metadata": {},
   "source": [
    "# Idenfication of nearest ORFs"
   ]
  },
  {
   "cell_type": "code",
   "execution_count": 132,
   "metadata": {},
   "outputs": [
    {
     "name": "stdout",
     "output_type": "stream",
     "text": [
      "3.11.3 (main, May 15 2023, 10:43:03) [Clang 14.0.6 ]\n"
     ]
    }
   ],
   "source": [
    "import os, re, sys\n",
    "import pandas as pd, numpy as np\n",
    "from matplotlib import pyplot as plt\n",
    "from Bio import SeqIO\n",
    "from scipy.stats import norm\n",
    "from bisect import bisect_left\n",
    "import seaborn as sns\n",
    "sns.set_theme(style='whitegrid')\n",
    "\n",
    "print(sys.version)"
   ]
  },
  {
   "attachments": {},
   "cell_type": "markdown",
   "metadata": {},
   "source": [
    "## Parse genebank annotations"
   ]
  },
  {
   "cell_type": "code",
   "execution_count": 52,
   "metadata": {},
   "outputs": [],
   "source": [
    "def parse_gb(gb):\n",
    "    # get all sequence records for the specified genbank file\n",
    "    recs = [rec for rec in SeqIO.parse(gb, \"genbank\")]\n",
    "    # print the number of sequence records that were extracted\n",
    "    # print(len(recs))\n",
    "    # print annotations for each sequence record\n",
    "    for rec in recs:\n",
    "        annotation_type = rec.annotations\n",
    "    # print the gene sequence feature summary information for each feature in each\n",
    "    # sequence record\n",
    "    dict = {}\n",
    "    for rec in recs:\n",
    "        feats = [feat for feat in rec.features if feat.type == \"gene\"]\n",
    "        for feat in feats:\n",
    "            locus_tag = feat.qualifiers['locus_tag']\n",
    "            locus_tag = \";\".join(locus_tag)\n",
    "            location = feat.location\n",
    "            strand = int(location.strand)\n",
    "            # flip start and end if gene is on negative strand\n",
    "            if strand == 1:\n",
    "                start_pos = int(location.start)\n",
    "                end_pos = int(location.end)\n",
    "            elif strand == -1:\n",
    "                start_pos = int(location.end)\n",
    "                end_pos = int(location.start)\n",
    "            dict.update({start_pos: (locus_tag, start_pos, end_pos, strand)})\n",
    "    return dict\n",
    "\n",
    "def make_orf_list(annotations, chrom):\n",
    "    gb = os.path.join(annotations, chrom + '.gb')\n",
    "    dict_chrom = parse_gb(gb)\n",
    "    start_codon_list = sorted(list(dict_chrom.keys()))\n",
    "    return dict_chrom, start_codon_list\n",
    "\n",
    "annotations = \"/Users/yunfei/2023_ChipSeq/annotations\"\n",
    "gene_dict = {}\n",
    "start_codon_dict = {}\n",
    "for fname, chrom in {'NZ_CP012004.1':'NZ_CP012004.1', \n",
    "                     'pAb1' : 'NC_009083.1', \n",
    "                     'pAb2' : 'NC_009084.1', \n",
    "                     'pAb3' : 'NZ_CP012005.1'}.items():\n",
    "    dict_chrom, start_codon_list = make_orf_list(annotations, fname)\n",
    "    gene_dict.update({chrom: dict_chrom})\n",
    "    start_codon_dict.update({chrom : start_codon_list})\n"
   ]
  },
  {
   "attachments": {},
   "cell_type": "markdown",
   "metadata": {},
   "source": [
    "## Classify peak as coding or intergenic ="
   ]
  },
  {
   "cell_type": "code",
   "execution_count": 54,
   "metadata": {},
   "outputs": [],
   "source": [
    "def is_intra(summit, dict, chrom):\n",
    "    # return whether a peak summit is within any CDS region\n",
    "    match = False # intergenic\n",
    "    for key, value in dict[chrom].items():\n",
    "        start = value[1]\n",
    "        end = value[2]\n",
    "        chrom = value[3]\n",
    "        if chrom == 1:\n",
    "            if start <= summit <= end: # genes can overlap, thus there might be more than 1 hit\n",
    "                match = True # coding\n",
    "                break\n",
    "        elif chrom == -1:\n",
    "            if end <= summit <= start: # on the negative strand gene positions are [end, start]\n",
    "                match = True # coding\n",
    "                break\n",
    "    return match"
   ]
  },
  {
   "attachments": {},
   "cell_type": "markdown",
   "metadata": {},
   "source": [
    "## Find the nearest ORFs\n",
    "### Adjacent peaks on the same strand and within 1000 bp of the peak position are reported"
   ]
  },
  {
   "cell_type": "code",
   "execution_count": 119,
   "metadata": {},
   "outputs": [],
   "source": [
    "class NearestORF:\n",
    "    def __init__(self, summit, gene_dict, start_codon_dict, chrom):\n",
    "        self.summit = summit\n",
    "        self.chrom = chrom\n",
    "        self.dict_annotation = gene_dict[chrom]\n",
    "        self.start_codon_list = start_codon_dict[chrom]\n",
    "\n",
    "    def find_nearest_start_codon(self):\n",
    "        match_index = bisect_left(self.start_codon_list, self.summit)\n",
    "        if match_index == 0:\n",
    "            nearest_match = self.start_codon_list[0]\n",
    "        elif match_index == len(self.start_codon_list):\n",
    "            nearest_match = self.start_codon_list[-1]\n",
    "        else:\n",
    "            left = self.start_codon_list[match_index - 1]\n",
    "            right = self.start_codon_list[match_index]\n",
    "            if right - self.summit < self.summit - left:\n",
    "                nearest_match = right\n",
    "            else:\n",
    "                nearest_match = left\n",
    "        return nearest_match\n",
    "\n",
    "    def get_match_info(self, match_ORF, strand):\n",
    "        accession, start, end, ORF_strand = self.dict_annotation[match_ORF]\n",
    "        if strand == 1:\n",
    "            distance_to_match = self.summit - match_ORF\n",
    "        elif strand == -1:\n",
    "            distance_to_match = match_ORF - self.summit\n",
    "        match_info = [self.summit, 0, accession, self.chrom, start, end, ORF_strand, distance_to_match]\n",
    "        return match_info\n",
    "\n",
    "    def find_next_ORFs(self, ORF_list_to_search, strand):\n",
    "        counter = 0\n",
    "        next_ORFs = []\n",
    "        for next_match_index in ORF_list_to_search:\n",
    "            counter += 1\n",
    "            next_match_strand = self.dict_annotation[next_match_index][3]\n",
    "            if next_match_strand == strand:\n",
    "                match_info = self.get_match_info(next_match_index, next_match_strand)\n",
    "                match_info[1] = counter\n",
    "                next_match_distance = match_info[7]\n",
    "                if abs(next_match_distance) <= 1000:\n",
    "                    next_ORFs.append(match_info)\n",
    "                else:\n",
    "                    break\n",
    "            else:\n",
    "                break\n",
    "        return next_ORFs\n",
    "\n",
    "    def nearest_orf(self):\n",
    "        nearest_match = self.find_nearest_start_codon()\n",
    "        nearest_match_info = self.get_match_info(nearest_match, self.dict_annotation[nearest_match][3])\n",
    "        all_match = [nearest_match_info]\n",
    "\n",
    "        if self.dict_annotation[nearest_match][3] == 1:  # If nearest ORF is on + strand, search right\n",
    "            ORF_list = self.start_codon_list[bisect_left(self.start_codon_list, self.summit) + 1:]\n",
    "        elif self.dict_annotation[nearest_match][3] == -1:  # If nearest ORF is on - strand, search left\n",
    "            ORF_list = self.start_codon_list[:bisect_left(self.start_codon_list, self.summit)][::-1]  # List is reversed\n",
    "        next_ORFs = self.find_next_ORFs(ORF_list, self.dict_annotation[nearest_match][3])\n",
    "\n",
    "        all_match += next_ORFs\n",
    "        return all_match"
   ]
  },
  {
   "cell_type": "code",
   "execution_count": 120,
   "metadata": {},
   "outputs": [
    {
     "data": {
      "text/plain": [
       "[[306809, 0, 'ACX60_RS01470', 'NZ_CP012004.1', 306809, 306509, -1, 0],\n",
       " [306809, 1, 'ACX60_RS01465', 'NZ_CP012004.1', 306393, 304884, -1, -416]]"
      ]
     },
     "execution_count": 120,
     "metadata": {},
     "output_type": "execute_result"
    }
   ],
   "source": [
    "## To test NearestORF\n",
    "summit = 306809\n",
    "chrom = 'NZ_CP012004.1'\n",
    "orf_finder = NearestORF(summit, gene_dict, start_codon_dict, chrom)\n",
    "orf_finder.nearest_orf()"
   ]
  },
  {
   "cell_type": "code",
   "execution_count": 140,
   "metadata": {},
   "outputs": [],
   "source": [
    "def make_histogram(infile, outfile, distance_plot, gene_dict, start_codon_dict):\n",
    "    # make histogram, and output stats to a tsv file\n",
    "    df_peak = pd.read_csv(infile, sep='\\t')\n",
    "    distance_list_intergenic = []\n",
    "    distance_list_coding = []\n",
    "    match_stats = []\n",
    "    for index, peak in df_peak.iterrows():\n",
    "        chrom = peak['chrom']\n",
    "        summit = peak['average_summit']\n",
    "        fold_enrich = peak['average_enrichment']\n",
    "        orf_finder = NearestORF(summit, gene_dict, start_codon_dict, chrom)\n",
    "        all_ORFs = orf_finder.nearest_orf()\n",
    "        for match_info in all_ORFs:\n",
    "            distance = match_info[-1]\n",
    "            if is_intra(summit, gene_dict, chrom):\n",
    "                match_info.append('coding')\n",
    "                distance_list_coding.append(distance)\n",
    "            else:\n",
    "                match_info.append('intergenic')\n",
    "                distance_list_intergenic.append(distance)\n",
    "            match_info.append(fold_enrich)\n",
    "            match_stats.append(match_info)\n",
    "    \n",
    "    # write output to csv\n",
    "    # add 'Nth nearest ORF'\n",
    "    col_names = ['summit_pos', 'Nth nearest ORF', 'locus_tag', 'chrom', 'start', 'end', 'strand', 'distance_to_match', 'match_type', 'average_fold_enrichment']\n",
    "    df_out = pd.DataFrame(match_stats, columns=col_names)\n",
    "    df_out = df_out.sort_values(by = ['summit_pos', 'Nth nearest ORF'], ascending = [True, True])\n",
    "    print(df_out.head())\n",
    "    df_out.to_csv(outfile, sep='\\t', index=False)\n",
    "    \n",
    "    # 23Mar2023 changed default bin size to 20\n",
    "    #fig, ax = plt.subplots()\n",
    "    ax = sns.displot(data=df_out, x='distance_to_match', hue='match_type', common_norm=True)\n",
    "    ax.set(xlabel='Distance from nearest start codon (nt)',\n",
    "          ylabel='Count',\n",
    "          xlim=(-1000,1000),\n",
    "          title=os.path.basename(infile))\n",
    "    #ax.spines['right'].set_visible(False)\n",
    "    #ax.spines['top'].set_visible(False)\n",
    "    #plt.tight_layout()\n",
    "    #plt.show()\n",
    "    plt.savefig(distance_plot)"
   ]
  },
  {
   "cell_type": "code",
   "execution_count": 141,
   "metadata": {},
   "outputs": [
    {
     "name": "stdout",
     "output_type": "stream",
     "text": [
      "     summit_pos  Nth nearest ORF      locus_tag          chrom  start    end  \\\n",
      "4          3649                0  ACX60_RS00020  NZ_CP012004.1   3882   6351   \n",
      "3          7132                0       A1S_3475    NC_009084.1   6196   8608   \n",
      "417       11064                0  ACX60_RS18245  NZ_CP012005.1  10999  10429   \n",
      "418       11064                1  ACX60_RS18245  NZ_CP012005.1  10999  10429   \n",
      "419       11064                2  ACX60_RS18240  NZ_CP012005.1  10427   9890   \n",
      "\n",
      "     strand  distance_to_match  match_type  average_fold_enrichment  \n",
      "4         1               -233      coding                     2.95  \n",
      "3         1                936      coding                     1.49  \n",
      "417      -1                -65  intergenic                     4.16  \n",
      "418      -1                -65  intergenic                     4.16  \n",
      "419      -1               -637  intergenic                     4.16  \n"
     ]
    },
    {
     "data": {
      "image/png": "[encoded data removed]",
      "text/plain": [
       "<Figure size 621.125x500 with 1 Axes>"
      ]
     },
     "metadata": {},
     "output_type": "display_data"
    }
   ],
   "source": [
    "infile = \"/Users/yunfei/2023_ChipSeq/average_peak_summit/BfmR-ChIP-49_seed1.average_summit.bed\"\n",
    "outdir = \"/Users/yunfei/2023_ChipSeq/peak_stat_next_ORFs\"\n",
    "\n",
    "os.makedirs(outdir, exist_ok=True)\n",
    "\n",
    "outfile = os.path.join(outdir, 'test.tsv')\n",
    "distance_plot = os.path.join(outdir, 'test.tiff')\n",
    "\n",
    "make_histogram(infile, outfile, distance_plot, gene_dict, start_codon_dict)"
   ]
  }
 ],
 "metadata": {
  "kernelspec": {
   "display_name": "ChipSeq",
   "language": "python",
   "name": "python3"
  },
  "language_info": {
   "codemirror_mode": {
    "name": "ipython",
    "version": 3
   },
   "file_extension": ".py",
   "mimetype": "text/x-python",
   "name": "python",
   "nbconvert_exporter": "python",
   "pygments_lexer": "ipython3",
   "version": "3.11.3"
  },
  "orig_nbformat": 4
 },
 "nbformat": 4,
 "nbformat_minor": 2
}
