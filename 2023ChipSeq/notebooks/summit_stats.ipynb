{
 "cells": [
  {
   "attachments": {},
   "cell_type": "markdown",
   "metadata": {},
   "source": [
    "# Peak analysis from MACS2 output\n",
    "\n",
    "This notebook analyzes peaks from MACS2 output.\n",
    "\n",
    "1. Calculate average peak position from replicates\n",
    "\n",
    "2. Identify nearest ORF adjacent to each peak and plot distribution of distance to the nearest ORF\n",
    "\n",
    "3. Cross-reference peaks with RNA-seq table and assign \"activate\" or \"repressed\" type to each peak"
   ]
  },
  {
   "cell_type": "code",
   "execution_count": 1,
   "metadata": {},
   "outputs": [
    {
     "name": "stdout",
     "output_type": "stream",
     "text": [
      "3.11.3 (main, May 15 2023, 10:43:03) [Clang 14.0.6 ]\n"
     ]
    }
   ],
   "source": [
    "import os\n",
    "import sys\n",
    "import re\n",
    "\n",
    "SCRIPTS = \"/Users/yunfei/GeisingerLab/2023ChipSeq/src\"\n",
    "print(sys.version)\n"
   ]
  },
  {
   "cell_type": "code",
   "execution_count": 24,
   "metadata": {},
   "outputs": [
    {
     "name": "stdout",
     "output_type": "stream",
     "text": [
      "Collecting pandas\n",
      "  Downloading pandas-2.0.2-cp311-cp311-macosx_10_9_x86_64.whl (11.6 MB)\n",
      "\u001b[2K     \u001b[90m━━━━━━━━━━━━━━━━━━━━━━━━━━━━━━━━━━━━━━━━\u001b[0m \u001b[32m11.6/11.6 MB\u001b[0m \u001b[31m36.8 MB/s\u001b[0m eta \u001b[36m0:00:00\u001b[0m00:01\u001b[0m0:01\u001b[0m\n",
      "\u001b[?25hRequirement already satisfied: python-dateutil>=2.8.2 in /Users/yunfei/opt/anaconda3/envs/ChipSeq/lib/python3.11/site-packages (from pandas) (2.8.2)\n",
      "Collecting pytz>=2020.1 (from pandas)\n",
      "  Downloading pytz-2023.3-py2.py3-none-any.whl (502 kB)\n",
      "\u001b[2K     \u001b[90m━━━━━━━━━━━━━━━━━━━━━━━━━━━━━━━━━━━━━━\u001b[0m \u001b[32m502.3/502.3 kB\u001b[0m \u001b[31m31.0 MB/s\u001b[0m eta \u001b[36m0:00:00\u001b[0m\n",
      "\u001b[?25hCollecting tzdata>=2022.1 (from pandas)\n",
      "  Downloading tzdata-2023.3-py2.py3-none-any.whl (341 kB)\n",
      "\u001b[2K     \u001b[90m━━━━━━━━━━━━━━━━━━━━━━━━━━━━━━━━━━━━━━\u001b[0m \u001b[32m341.8/341.8 kB\u001b[0m \u001b[31m25.4 MB/s\u001b[0m eta \u001b[36m0:00:00\u001b[0m\n",
      "\u001b[?25hCollecting numpy>=1.21.0 (from pandas)\n",
      "  Downloading numpy-1.25.0-cp311-cp311-macosx_10_9_x86_64.whl (20.0 MB)\n",
      "\u001b[2K     \u001b[90m━━━━━━━━━━━━━━━━━━━━━━━━━━━━━━━━━━━━━━━━\u001b[0m \u001b[32m20.0/20.0 MB\u001b[0m \u001b[31m33.6 MB/s\u001b[0m eta \u001b[36m0:00:00\u001b[0m00:01\u001b[0m00:01\u001b[0m\n",
      "\u001b[?25hRequirement already satisfied: six>=1.5 in /Users/yunfei/opt/anaconda3/envs/ChipSeq/lib/python3.11/site-packages (from python-dateutil>=2.8.2->pandas) (1.16.0)\n",
      "Installing collected packages: pytz, tzdata, numpy, pandas\n",
      "Successfully installed numpy-1.25.0 pandas-2.0.2 pytz-2023.3 tzdata-2023.3\n",
      "Note: you may need to restart the kernel to use updated packages.\n",
      "Requirement already satisfied: numpy in /Users/yunfei/opt/anaconda3/envs/ChipSeq/lib/python3.11/site-packages (1.25.0)\n",
      "Note: you may need to restart the kernel to use updated packages.\n"
     ]
    }
   ],
   "source": [
    "%pip install pandas\n",
    "%pip install numpy"
   ]
  },
  {
   "attachments": {},
   "cell_type": "markdown",
   "metadata": {},
   "source": [
    "## Calculate average peak position from replicates\n",
    "\n",
    "### Use bedtools multiinter to identify intersected peaks"
   ]
  },
  {
   "cell_type": "code",
   "execution_count": 33,
   "metadata": {},
   "outputs": [],
   "source": [
    "INDIR = \"/Users/yunfei/2023_ChipSeq/MACS2_output_500k_ext200_input28-2/narrowPeak\"\n",
    "OUTDIR = \"/Users/yunfei/2023_ChipSeq/bed_multiinter\"\n",
    "\n",
    "!mkdir -p $OUTDIR\n",
    "\n",
    "for seed in [1, 4, 7]:\n",
    "    for sample in [28, 49]:\n",
    "        replicates = []\n",
    "        for file in os.listdir(INDIR):\n",
    "            if sample == 28: # for 28, only include replicate 2, and populate the list with 3 x replicate 2\n",
    "                if re.match(\"^.+\" + str(sample) + \"-2.seed\" + str(seed) + \".+$\", file):\n",
    "                    replicates.append(os.path.join(INDIR, file))\n",
    "            else:\n",
    "                if re.match(\"^.+\" + str(sample) + \"-\\d.seed\" + str(seed) + \".+$\", file):\n",
    "                    replicates.append(os.path.join(INDIR, file))\n",
    "        if len(replicates) == 1:\n",
    "            replicates += replicates\n",
    "        outfile =os.path.join(OUTDIR, (\"BfmR-ChIP-\" + str(sample) + \"_seed\" + str(seed) + \".intersect.bed\"))\n",
    "        cmd = \"bedtools multiinter -cluster -header -i \" + \" \".join(replicates) + \" > \" + outfile # 23Feb2023: added -header option so the output contains file path\n",
    "        os.system(cmd)"
   ]
  },
  {
   "attachments": {},
   "cell_type": "markdown",
   "metadata": {},
   "source": [
    "### Calculate average peak position\n"
   ]
  },
  {
   "cell_type": "code",
   "execution_count": 2,
   "metadata": {},
   "outputs": [
    {
     "name": "stdout",
     "output_type": "stream",
     "text": [
      "new output: /Users/yunfei/2023_ChipSeq/average_peak_summit/BfmR-ChIP-28_seed4.average_summit.bed\n",
      "new output: /Users/yunfei/2023_ChipSeq/average_peak_summit/BfmR-ChIP-49_seed1.average_summit.bed\n",
      "new output: /Users/yunfei/2023_ChipSeq/average_peak_summit/BfmR-ChIP-28_seed7.average_summit.bed\n",
      "new output: /Users/yunfei/2023_ChipSeq/average_peak_summit/BfmR-ChIP-49_seed7.average_summit.bed\n",
      "new output: /Users/yunfei/2023_ChipSeq/average_peak_summit/BfmR-ChIP-28_seed1.average_summit.bed\n",
      "new output: /Users/yunfei/2023_ChipSeq/average_peak_summit/BfmR-ChIP-49_seed4.average_summit.bed\n"
     ]
    }
   ],
   "source": [
    "INDIR = \"/Users/yunfei/2023_ChipSeq/bed_multiinter\"\n",
    "OUTDIR = \"/Users/yunfei/2023_ChipSeq/average_peak_summit\"\n",
    "SCRIPT = \"/Users/yunfei/GeisingerLab/2023ChipSeq/src/find_peak_summit.py\"\n",
    "!mkdir -p $OUTDIR\n",
    "\n",
    "for file in os.listdir(INDIR):\n",
    "    if re.match(\"^.+\" + \"intersect.bed$\", file):\n",
    "        infile = os.path.join(INDIR, file)\n",
    "        outfile = os.path.join(OUTDIR, (file.split('.')[0] + '.average_summit.bed'))\n",
    "        cmd = \"python \" + SCRIPT + \" \" + infile + \" \" + outfile\n",
    "        print(\"new output: \" + outfile)\n",
    "        os.system(cmd)"
   ]
  }
 ],
 "metadata": {
  "kernelspec": {
   "display_name": "ChipSeq",
   "language": "python",
   "name": "python3"
  },
  "language_info": {
   "codemirror_mode": {
    "name": "ipython",
    "version": 3
   },
   "file_extension": ".py",
   "mimetype": "text/x-python",
   "name": "python",
   "nbconvert_exporter": "python",
   "pygments_lexer": "ipython3",
   "version": "3.11.3"
  },
  "orig_nbformat": 4
 },
 "nbformat": 4,
 "nbformat_minor": 2
}
