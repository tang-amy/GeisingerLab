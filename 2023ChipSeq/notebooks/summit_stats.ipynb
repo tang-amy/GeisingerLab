{
 "cells": [
  {
   "attachments": {},
   "cell_type": "markdown",
   "metadata": {},
   "source": [
    "# Peak analysis from MACS2 output\n",
    "\n",
    "This notebook analyzes peaks from MACS2 output.\n",
    "\n",
    "1. Calculate average peak position from replicates\n",
    "\n",
    "2. Identify nearest ORF adjacent to each peak and plot distribution of distance to the nearest ORF\n",
    "\n",
    "3. Cross-reference peaks with RNA-seq table and assign \"activate\" or \"repressed\" type to each peak"
   ]
  },
  {
   "cell_type": "code",
   "execution_count": 4,
   "metadata": {},
   "outputs": [
    {
     "name": "stdout",
     "output_type": "stream",
     "text": [
      "3.11.3 (main, May 15 2023, 10:43:03) [Clang 14.0.6 ]\n"
     ]
    }
   ],
   "source": [
    "import os\n",
    "import sys\n",
    "\n",
    "\n",
    "SCRIPTS = \"/Users/yunfei/GeisingerLab/2023ChipSeq/src\"\n",
    "print(sys.version)\n"
   ]
  },
  {
   "attachments": {},
   "cell_type": "markdown",
   "metadata": {},
   "source": [
    "## Calculate average peak position from replicates\n",
    "\n",
    "### Use bedtools multiinter to identify intersected peaks"
   ]
  },
  {
   "cell_type": "code",
   "execution_count": 33,
   "metadata": {},
   "outputs": [],
   "source": [
    "INDIR = \"/Users/yunfei/2023_ChipSeq/MACS2_output_500k_ext200_input28-2/narrowPeak\"\n",
    "OUTDIR = \"/Users/yunfei/2023_ChipSeq/bed_multiinter\"\n",
    "\n",
    "!mkdir -p $OUTDIR\n",
    "\n",
    "import re\n",
    "for seed in [1, 4, 7]:\n",
    "    for sample in [28, 49]:\n",
    "        replicates = []\n",
    "        for file in os.listdir(INDIR):\n",
    "            if sample == 28: # for 28, only include replicate 2, and populate the list with 3 x replicate 2\n",
    "                if re.match(\"^.+\" + str(sample) + \"-2.seed\" + str(seed) + \".+$\", file):\n",
    "                    replicates.append(os.path.join(INDIR, file))\n",
    "            else:\n",
    "                if re.match(\"^.+\" + str(sample) + \"-\\d.seed\" + str(seed) + \".+$\", file):\n",
    "                    replicates.append(os.path.join(INDIR, file))\n",
    "        if len(replicates) == 1:\n",
    "            replicates += replicates\n",
    "        outfile =os.path.join(OUTDIR, (\"BfmR-ChIP-\" + str(sample) + \"_seed\" + str(seed) + \".intersect.bed\"))\n",
    "        cmd = \"bedtools multiinter -cluster -header -i \" + \" \".join(replicates) + \" > \" + outfile # 23Feb2023: added -header option so the output contains file path\n",
    "        os.system(cmd)"
   ]
  },
  {
   "attachments": {},
   "cell_type": "markdown",
   "metadata": {},
   "source": [
    "### Calculate average peak position\n"
   ]
  },
  {
   "cell_type": "code",
   "execution_count": null,
   "metadata": {},
   "outputs": [],
   "source": []
  }
 ],
 "metadata": {
  "kernelspec": {
   "display_name": "ChipSeq",
   "language": "python",
   "name": "python3"
  },
  "language_info": {
   "codemirror_mode": {
    "name": "ipython",
    "version": 3
   },
   "file_extension": ".py",
   "mimetype": "text/x-python",
   "name": "python",
   "nbconvert_exporter": "python",
   "pygments_lexer": "ipython3",
   "version": "3.11.3"
  },
  "orig_nbformat": 4
 },
 "nbformat": 4,
 "nbformat_minor": 2
}
