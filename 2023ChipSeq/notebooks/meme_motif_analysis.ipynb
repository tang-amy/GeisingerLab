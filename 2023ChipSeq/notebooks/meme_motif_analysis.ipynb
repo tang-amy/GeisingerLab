{
 "cells": [
  {
   "attachments": {},
   "cell_type": "markdown",
   "metadata": {},
   "source": [
    "# MEME Motif Analysis\n",
    "\n",
    "This notebook extracts sequences adjacent to each peak and identify motifs"
   ]
  },
  {
   "cell_type": "code",
   "execution_count": 5,
   "metadata": {},
   "outputs": [
    {
     "name": "stdout",
     "output_type": "stream",
     "text": [
      "3.11.3 (main, May 15 2023, 10:43:03) [Clang 14.0.6 ]\n"
     ]
    }
   ],
   "source": [
    "import os\n",
    "import sys\n",
    "import re\n",
    "import pandas as pd\n",
    "from Bio import SeqIO\n",
    "\n",
    "print(sys.version)"
   ]
  },
  {
   "attachments": {},
   "cell_type": "markdown",
   "metadata": {},
   "source": [
    "## Generate bed file containing coordinates of 500 bp flanking both directions of each peak"
   ]
  },
  {
   "cell_type": "code",
   "execution_count": 32,
   "metadata": {},
   "outputs": [],
   "source": [
    "seq_length = 500\n",
    "INFILE = \"/Users/yunfei/2023_ChipSeq/peak_stat/BfmR-ChIP-49_seed1.nearest_orf.tsv\"\n",
    "df_peak = pd.read_csv(INFILE, sep='\\t')\n",
    "df_peak = df_peak[['chrom', 'summit_pos', 'match_type']]\n",
    "df_peak['seq_start'] = df_peak['summit_pos'] - (seq_length // 2)\n",
    "df_peak['seq_end'] = df_peak['summit_pos'] + (seq_length // 2)\n",
    "\n",
    "df_peak_all = df_peak[['chrom', 'seq_start', 'seq_end']]\n",
    "df_peak_intergenic = df_peak_all[df_peak['match_type'] == 'intergenic']\n",
    "df_peak_intergenic = df_peak_intergenic[['chrom', 'seq_start', 'seq_end']]\n",
    "df_peak_coding = df_peak_all[df_peak['match_type'] == 'coding']\n",
    "df_peak_coding = df_peak_coding[['chrom', 'seq_start', 'seq_end']]\n",
    "\n",
    "OUTDIR = \"/Users/yunfei/2023_ChipSeq/bed_file_for_MEME_500\"\n",
    "os.makedirs(OUTDIR, exist_ok=True)\n",
    "\n",
    "df_peak_all.to_csv(os.path.join(OUTDIR, \"BfmR-ChIP-49_seed1_all_peak.bed\"), sep='\\t', header=False, index=False, mode='w')\n",
    "df_peak_intergenic.to_csv(os.path.join(OUTDIR, \"BfmR-ChIP-49_seed1_intergenic_peak.bed\"), sep='\\t', header=False, index=False, mode='w')\n",
    "df_peak_coding.to_csv(os.path.join(OUTDIR, \"BfmR-ChIP-49_seed1_coding_peak.bed\"), sep='\\t', header=False, index=False, mode='w')"
   ]
  },
  {
   "attachments": {},
   "cell_type": "markdown",
   "metadata": {},
   "source": [
    "## Generate fasta file from bed files"
   ]
  },
  {
   "cell_type": "code",
   "execution_count": 45,
   "metadata": {},
   "outputs": [
    {
     "name": "stdout",
     "output_type": "stream",
     "text": [
      "FASTA output: /Users/yunfei/2023_ChipSeq/bed_file_for_MEME_500/BfmR-ChIP-49_seed1_coding_peak.fa\n",
      "FASTA output: /Users/yunfei/2023_ChipSeq/bed_file_for_MEME_500/BfmR-ChIP-49_seed1_intergenic_peak.fa\n",
      "FASTA output: /Users/yunfei/2023_ChipSeq/bed_file_for_MEME_500/BfmR-ChIP-49_seed1_all_peak.fa\n"
     ]
    }
   ],
   "source": [
    "INDIR = \"/Users/yunfei/2023_ChipSeq/bed_file_for_MEME_500\"\n",
    "FASTA = \"/Users/yunfei/2023_ChipSeq/references/Ab_all.fasta\"\n",
    "for file in os.listdir(INDIR):\n",
    "    if re.match('.+bed$', file):\n",
    "        infile = os.path.join(INDIR, file)\n",
    "        outfile = os.path.join(INDIR, file.split('.')[0]+'.fa')\n",
    "        cmd = \" \".join(['bedtools getfasta', '-fi', FASTA, '-bed', infile, '>', outfile])\n",
    "        print(\"FASTA output: \" + outfile)\n",
    "        os.system(cmd)"
   ]
  },
  {
   "attachments": {},
   "cell_type": "markdown",
   "metadata": {},
   "source": [
    "## Run MEME"
   ]
  },
  {
   "cell_type": "code",
   "execution_count": 51,
   "metadata": {},
   "outputs": [
    {
     "name": "stdout",
     "output_type": "stream",
     "text": [
      "meme-chip -meme-p 4 -o /Users/yunfei/2023_ChipSeq/MEME-Chip_output/BfmR-ChIP-49_seed1_coding_peak -db /Users/yunfei/meme/motif_databases/PROKARYOTE/collectf.meme /Users/yunfei/2023_ChipSeq/bed_file_for_MEME_500/BfmR-ChIP-49_seed1_coding_peak.fa >> /Users/yunfei/2023_ChipSeq/MEME-Chip_output/meme-chip_log.txt 2>&1\n",
      "meme-chip -meme-p 4 -o /Users/yunfei/2023_ChipSeq/MEME-Chip_output/BfmR-ChIP-49_seed1_intergenic_peak -db /Users/yunfei/meme/motif_databases/PROKARYOTE/collectf.meme /Users/yunfei/2023_ChipSeq/bed_file_for_MEME_500/BfmR-ChIP-49_seed1_intergenic_peak.fa >> /Users/yunfei/2023_ChipSeq/MEME-Chip_output/meme-chip_log.txt 2>&1\n",
      "meme-chip -meme-p 4 -o /Users/yunfei/2023_ChipSeq/MEME-Chip_output/BfmR-ChIP-49_seed1_all_peak -db /Users/yunfei/meme/motif_databases/PROKARYOTE/collectf.meme /Users/yunfei/2023_ChipSeq/bed_file_for_MEME_500/BfmR-ChIP-49_seed1_all_peak.fa >> /Users/yunfei/2023_ChipSeq/MEME-Chip_output/meme-chip_log.txt 2>&1\n"
     ]
    }
   ],
   "source": [
    "INDIR = \"/Users/yunfei/2023_ChipSeq/bed_file_for_MEME_500\"\n",
    "OUTDIR = \"/Users/yunfei/2023_ChipSeq/MEME-Chip_output\"\n",
    "DB = \"/Users/yunfei/meme/motif_databases/PROKARYOTE/collectf.meme\"\n",
    "LOG = os.path.join(OUTDIR, 'meme-chip_log.txt')\n",
    "\n",
    "os.makedirs(os.path.join(OUTDIR, 'fimo_output'), exist_ok=True)\n",
    "os.makedirs(os.path.join(OUTDIR, 'html_output'), exist_ok=True)\n",
    "for file in os.listdir(INDIR):\n",
    "    if re.match('.+fa$', file):\n",
    "        infile = os.path.join(INDIR, file)\n",
    "        prefix = os.path.join(OUTDIR, file.split('.')[0])\n",
    "        cmd = ' '.join(['meme-chip -meme-p 4', '-o', prefix, '-db', DB, infile, \">>\", LOG, \"2>&1\"])\n",
    "        print(cmd)\n",
    "        os.system(cmd)"
   ]
  }
 ],
 "metadata": {
  "kernelspec": {
   "display_name": "ChipSeq",
   "language": "python",
   "name": "python3"
  },
  "language_info": {
   "codemirror_mode": {
    "name": "ipython",
    "version": 3
   },
   "file_extension": ".py",
   "mimetype": "text/x-python",
   "name": "python",
   "nbconvert_exporter": "python",
   "pygments_lexer": "ipython3",
   "version": "3.11.3"
  },
  "orig_nbformat": 4
 },
 "nbformat": 4,
 "nbformat_minor": 2
}
